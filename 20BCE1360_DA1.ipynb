{
  "cells": [
    {
      "cell_type": "markdown",
      "source": [
        "<center><h2>NLP - DA1</h2>\n",
        "<h4>Python NLTK</h4>\n",
        "<h5 style=\"text-align: right\"> 20BCE1360 </h5>\n",
        "<h5 style=\"text-align: right\"> Prathiba Lakshmi Narayan </h5>"
      ],
      "metadata": {
        "id": "w7bzQ9NRxGf5"
      }
    },
    {
      "cell_type": "markdown",
      "metadata": {
        "id": "-iGuLQy-QhQN"
      },
      "source": [
        "QUESTION 1\n",
        "\n",
        "1. Utilize Python NLTK (Natural Language Tool Kit) Platform and do the following. \n",
        "Install relevant Packages and Libraries\n",
        "(03 Marks)\n",
        "\n",
        "• Explore Brown Corpus and find the size, tokens, categories,\n",
        "\n",
        "• Find the size of word tokens?\n",
        "\n",
        "• Find the size of word types?\n",
        "\n",
        "• Find the size of the category “government”\n",
        "\n",
        "• List the most frequent tokens\n",
        "\n",
        "• Count the number of sentences"
      ]
    },
    {
      "cell_type": "code",
      "execution_count": 2,
      "metadata": {
        "colab": {
          "base_uri": "https://localhost:8080/"
        },
        "id": "ZULm_0IeQhRg",
        "outputId": "da5de22b-0e9b-4da5-96b5-540092906143"
      },
      "outputs": [
        {
          "output_type": "stream",
          "name": "stderr",
          "text": [
            "[nltk_data] Downloading package brown to /root/nltk_data...\n",
            "[nltk_data]   Unzipping corpora/brown.zip.\n"
          ]
        },
        {
          "output_type": "stream",
          "name": "stdout",
          "text": [
            "\n",
            "WORDS: \n",
            "['The', 'Fulton', 'County', 'Grand', 'Jury', 'said', ...]\n",
            "\n",
            "CATEGORIES: \n",
            "['adventure', 'belles_lettres', 'editorial', 'fiction', 'government', 'hobbies', 'humor', 'learned', 'lore', 'mystery', 'news', 'religion', 'reviews', 'romance', 'science_fiction']\n",
            "\n",
            "NUMBER OF WORDS:\n",
            "1161192\n",
            "\n",
            "NUMBER OF CATEGORIES:\n",
            "15\n",
            "56057\n",
            "\n",
            "SIZE OF CATEGORY \"GOVERNMENT\": \n",
            "70117\n",
            "\n",
            "MOST FREQUENT TOKENS: \n",
            "[('the', 62713), (',', 58334), ('.', 49346), ('of', 36080), ('and', 27915)]\n",
            "\n",
            "NUMBER OF SENTENCES: \n",
            "57340\n"
          ]
        }
      ],
      "source": [
        "import nltk\n",
        "nltk.download('brown')\n",
        "from nltk.corpus import brown\n",
        "\n",
        "#Explore Brown Corpus and find the size, tokens, categories\n",
        "print(\"\\nWORDS: \")\n",
        "print(brown.words())\n",
        "print(\"\\nCATEGORIES: \")\n",
        "print(brown.categories())\n",
        "\n",
        "#Find the size of word tokens?\n",
        "print(\"\\nNUMBER OF WORDS:\")\n",
        "print(len(brown.words()))\n",
        "\n",
        "#Find the size of word types?\n",
        "print(\"\\nNUMBER OF CATEGORIES:\")\n",
        "print(len(brown.categories()))\n",
        "print(len(set(brown.words())))\n",
        "\n",
        "#Find the size of the category “government”\n",
        "print('\\nSIZE OF CATEGORY \"GOVERNMENT\": ')\n",
        "print(len(brown.words(categories='government')))\n",
        "\n",
        "#List the most frequent tokens\n",
        "print(\"\\nMOST FREQUENT TOKENS: \")\n",
        "freq = nltk.FreqDist(brown.words())\n",
        "print(freq.most_common(5))\n",
        "\n",
        "#Count the number of sentences\n",
        "print(\"\\nNUMBER OF SENTENCES: \")\n",
        "print(len(brown.sents()))\n"
      ]
    },
    {
      "cell_type": "markdown",
      "metadata": {
        "id": "xJk1d3jJQhRs"
      },
      "source": [
        "QUESTION 2\n",
        "\n",
        "2. Explore the corpora available in NLTK (any two) (02 Marks)\n",
        "\n",
        "• Raw corpus\n",
        "\n",
        "• POS tagged \n",
        "\n",
        "• Parsed \n",
        "\n",
        "• Multilingual aligned\n",
        "\n",
        "• Spoken language\n",
        "\n",
        "• Semantic tagged"
      ]
    },
    {
      "cell_type": "code",
      "execution_count": 4,
      "metadata": {
        "colab": {
          "base_uri": "https://localhost:8080/"
        },
        "id": "bvspAWi7QhRw",
        "outputId": "926e98b7-cfe8-400a-cc2c-ff21dca4de2a"
      },
      "outputs": [
        {
          "output_type": "stream",
          "name": "stdout",
          "text": [
            "\n",
            "TAGGED WORDS: \n",
            "[('The', 'AT'), ('Fulton', 'NP-TL'), ...]\n",
            "\n",
            "TAGGED SENTENCES: \n",
            "[[('The', 'AT'), ('Fulton', 'NP-TL'), ('County', 'NN-TL'), ('Grand', 'JJ-TL'), ('Jury', 'NN-TL'), ('said', 'VBD'), ('Friday', 'NR'), ('an', 'AT'), ('investigation', 'NN'), ('of', 'IN'), (\"Atlanta's\", 'NP$'), ('recent', 'JJ'), ('primary', 'NN'), ('election', 'NN'), ('produced', 'VBD'), ('``', '``'), ('no', 'AT'), ('evidence', 'NN'), (\"''\", \"''\"), ('that', 'CS'), ('any', 'DTI'), ('irregularities', 'NNS'), ('took', 'VBD'), ('place', 'NN'), ('.', '.')], [('The', 'AT'), ('jury', 'NN'), ('further', 'RBR'), ('said', 'VBD'), ('in', 'IN'), ('term-end', 'NN'), ('presentments', 'NNS'), ('that', 'CS'), ('the', 'AT'), ('City', 'NN-TL'), ('Executive', 'JJ-TL'), ('Committee', 'NN-TL'), (',', ','), ('which', 'WDT'), ('had', 'HVD'), ('over-all', 'JJ'), ('charge', 'NN'), ('of', 'IN'), ('the', 'AT'), ('election', 'NN'), (',', ','), ('``', '``'), ('deserves', 'VBZ'), ('the', 'AT'), ('praise', 'NN'), ('and', 'CC'), ('thanks', 'NNS'), ('of', 'IN'), ('the', 'AT'), ('City', 'NN-TL'), ('of', 'IN-TL'), ('Atlanta', 'NP-TL'), (\"''\", \"''\"), ('for', 'IN'), ('the', 'AT'), ('manner', 'NN'), ('in', 'IN'), ('which', 'WDT'), ('the', 'AT'), ('election', 'NN'), ('was', 'BEDZ'), ('conducted', 'VBN'), ('.', '.')], ...]\n",
            "\n",
            "FREQUENCY DISTRIBUTION OF TAGGED WORDS: \n",
            "<FreqDist with 472 samples and 1161192 outcomes>\n",
            "['PM', 'denies', 'knowledge', 'of', 'AWB', 'kickbacks', ...]\n",
            "['In', 'the', 'beginning', 'God', 'created', 'the', ...]\n"
          ]
        },
        {
          "output_type": "stream",
          "name": "stderr",
          "text": [
            "[nltk_data] Downloading package abc to /root/nltk_data...\n",
            "[nltk_data]   Package abc is already up-to-date!\n",
            "[nltk_data] Downloading package genesis to /root/nltk_data...\n",
            "[nltk_data]   Package genesis is already up-to-date!\n"
          ]
        }
      ],
      "source": [
        "# POS tagged words\n",
        "print(\"\\nTAGGED WORDS: \")\n",
        "print(brown.tagged_words())\n",
        "print(\"\\nTAGGED SENTENCES: \")\n",
        "print(brown.tagged_sents())\n",
        "print(\"\\nFREQUENCY DISTRIBUTION OF TAGGED WORDS: \")\n",
        "freq = nltk.FreqDist(tag for (word, tag) in brown.tagged_words())\n",
        "print(freq)\n",
        "\n",
        "# Raw corpus\n",
        "nltk.download('abc')\n",
        "nltk.download('genesis')\n",
        "from nltk.corpus import abc\n",
        "from nltk.corpus import genesis\n",
        "print(\"\\n\\nABC WORDS: \")\n",
        "print(abc.words())\n",
        "print(\"\\nGENESIS WORDS: \")\n",
        "print(genesis.words())"
      ]
    },
    {
      "cell_type": "markdown",
      "metadata": {
        "id": "mFn_45bDQhR0"
      },
      "source": [
        "QUESTION 3\n",
        "\n",
        "3. Create a text corpus with a minimum of 200 words (unique content). Implement the following text processing \n",
        "(05 Marks)\n",
        "\n",
        "• Word segmentation\n",
        "\n",
        "• Sentence segmentation\n",
        "\n",
        "• Convert to Lowercase\n",
        "\n",
        "• Stop words removal\n",
        "\n",
        "• Stemming\n",
        "\n",
        "• Lemmatization\n",
        "\n",
        "• Part of speech tagged"
      ]
    },
    {
      "cell_type": "code",
      "execution_count": 5,
      "metadata": {
        "colab": {
          "base_uri": "https://localhost:8080/"
        },
        "id": "hA8mL5hUQhR4",
        "outputId": "2d9e3638-a64d-467d-9896-7b90e235ef5b"
      },
      "outputs": [
        {
          "output_type": "stream",
          "name": "stderr",
          "text": [
            "[nltk_data] Downloading package punkt to /root/nltk_data...\n",
            "[nltk_data]   Unzipping tokenizers/punkt.zip.\n",
            "[nltk_data] Downloading package stopwords to /root/nltk_data...\n",
            "[nltk_data]   Unzipping corpora/stopwords.zip.\n",
            "[nltk_data] Downloading package wordnet to /root/nltk_data...\n",
            "[nltk_data] Downloading package omw-1.4 to /root/nltk_data...\n",
            "[nltk_data] Downloading package averaged_perceptron_tagger to\n",
            "[nltk_data]     /root/nltk_data...\n",
            "[nltk_data]   Unzipping taggers/averaged_perceptron_tagger.zip.\n"
          ]
        },
        {
          "output_type": "stream",
          "name": "stdout",
          "text": [
            "\n",
            "WORD SEGMENTAION\n",
            "['The', 'sun', 'was', 'shining', 'brightly', 'as', 'the', 'birds', 'sang', 'their', 'morning', 'song', '.', 'The', 'dew', 'on', 'the', 'grass', 'sparkled', 'like', 'diamonds', 'as', 'the', 'fresh', 'smell', 'of', 'spring', 'filled', 'the', 'air', '.', 'The', 'flowers', 'were', 'in', 'bloom', ',', 'their', 'colors', 'creating', 'a', 'rainbow', 'of', 'hues', '.', 'The', 'bees', 'buzzed', 'from', 'flower', 'to', 'flower', ',', 'collecting', 'nectar', 'and', 'spreading', 'pollen', '.', 'The', 'leaves', 'on', 'the', 'trees', 'rustled', 'gently', 'in', 'the', 'breeze', ',', 'creating', 'a', 'soothing', 'symphony', '.', 'The', 'sound', 'of', 'a', 'nearby', 'stream', 'added', 'to', 'the', 'serene', 'ambiance', '.', 'The', 'sky', 'was', 'a', 'deep', 'shade', 'of', 'blue', ',', 'with', 'fluffy', 'white', 'clouds', 'lazily', 'drifting', 'by', '.', 'It', 'was', 'a', 'perfect', 'day', 'for', 'a', 'hike', 'in', 'the', 'mountains', ',', 'where', 'the', 'rugged', 'terrain', 'and', 'majestic', 'views', 'would', 'take', 'your', 'breath', 'away', '.', 'The', 'rocky', 'cliffs', 'and', 'cascading', 'waterfalls', 'were', 'sights', 'to', 'behold', '.', 'The', 'trail', 'wound', 'its', 'way', 'through', 'dense', 'forests', 'and', 'open', 'meadows', ',', 'each', 'step', 'revealing', 'a', 'new', 'discovery', '.', 'The', 'sound', 'of', 'a', 'woodpecker', 'echoed', 'through', 'the', 'woods', 'as', 'a', 'deer', 'gracefully', 'crossed', 'the', 'path', '.']\n",
            "\n",
            "SENTENCE SEGMENTAION\n",
            "['The sun was shining brightly as the birds sang their morning song.', 'The dew on the grass sparkled like diamonds \\nas the fresh smell of spring filled the air.', 'The flowers were in bloom, their colors creating a rainbow of hues.', 'The bees \\nbuzzed from flower to flower, collecting nectar and spreading pollen.', 'The leaves on the trees rustled gently in the breeze, \\ncreating a soothing symphony.', 'The sound of a nearby stream added to the serene ambiance.', 'The sky was a deep shade of blue, with \\nfluffy white clouds lazily drifting by.', 'It was a perfect day for a hike in the mountains, where the rugged terrain and majestic \\nviews would take your breath away.', 'The rocky cliffs and cascading waterfalls were sights to behold.', 'The trail wound its way \\nthrough dense forests and open meadows, each step revealing a new discovery.', 'The sound of a woodpecker echoed through the woods \\nas a deer gracefully crossed the path.']\n",
            "\n",
            "CONVERT TO LOWERCASE\n",
            "the sun was shining brightly as the birds sang their morning song. the dew on the grass sparkled like diamonds \n",
            "as the fresh smell of spring filled the air. the flowers were in bloom, their colors creating a rainbow of hues. the bees \n",
            "buzzed from flower to flower, collecting nectar and spreading pollen. the leaves on the trees rustled gently in the breeze, \n",
            "creating a soothing symphony. the sound of a nearby stream added to the serene ambiance. the sky was a deep shade of blue, with \n",
            "fluffy white clouds lazily drifting by. it was a perfect day for a hike in the mountains, where the rugged terrain and majestic \n",
            "views would take your breath away. the rocky cliffs and cascading waterfalls were sights to behold. the trail wound its way \n",
            "through dense forests and open meadows, each step revealing a new discovery. the sound of a woodpecker echoed through the woods \n",
            "as a deer gracefully crossed the path.\n",
            "\n",
            "STOP WORDS REMOVAL\n",
            "['The', 'sun', 'shining', 'brightly', 'birds', 'sang', 'morning', 'song', '.', 'The', 'dew', 'grass', 'sparkled', 'like', 'diamonds', 'fresh', 'smell', 'spring', 'filled', 'air', '.', 'The', 'flowers', 'bloom', ',', 'colors', 'creating', 'rainbow', 'hues', '.', 'The', 'bees', 'buzzed', 'flower', 'flower', ',', 'collecting', 'nectar', 'spreading', 'pollen', '.', 'The', 'leaves', 'trees', 'rustled', 'gently', 'breeze', ',', 'creating', 'soothing', 'symphony', '.', 'The', 'sound', 'nearby', 'stream', 'added', 'serene', 'ambiance', '.', 'The', 'sky', 'deep', 'shade', 'blue', ',', 'fluffy', 'white', 'clouds', 'lazily', 'drifting', '.', 'It', 'perfect', 'day', 'hike', 'mountains', ',', 'rugged', 'terrain', 'majestic', 'views', 'would', 'take', 'breath', 'away', '.', 'The', 'rocky', 'cliffs', 'cascading', 'waterfalls', 'sights', 'behold', '.', 'The', 'trail', 'wound', 'way', 'dense', 'forests', 'open', 'meadows', ',', 'step', 'revealing', 'new', 'discovery', '.', 'The', 'sound', 'woodpecker', 'echoed', 'woods', 'deer', 'gracefully', 'crossed', 'path', '.']\n",
            "\n",
            "STEMMING\n",
            "['the', 'sun', 'wa', 'shine', 'brightli', 'as', 'the', 'bird', 'sang', 'their', 'morn', 'song', '.', 'the', 'dew', 'on', 'the', 'grass', 'sparkl', 'like', 'diamond', 'as', 'the', 'fresh', 'smell', 'of', 'spring', 'fill', 'the', 'air', '.', 'the', 'flower', 'were', 'in', 'bloom', ',', 'their', 'color', 'creat', 'a', 'rainbow', 'of', 'hue', '.', 'the', 'bee', 'buzz', 'from', 'flower', 'to', 'flower', ',', 'collect', 'nectar', 'and', 'spread', 'pollen', '.', 'the', 'leav', 'on', 'the', 'tree', 'rustl', 'gentli', 'in', 'the', 'breez', ',', 'creat', 'a', 'sooth', 'symphoni', '.', 'the', 'sound', 'of', 'a', 'nearbi', 'stream', 'ad', 'to', 'the', 'seren', 'ambianc', '.', 'the', 'sky', 'wa', 'a', 'deep', 'shade', 'of', 'blue', ',', 'with', 'fluffi', 'white', 'cloud', 'lazili', 'drift', 'by', '.', 'it', 'wa', 'a', 'perfect', 'day', 'for', 'a', 'hike', 'in', 'the', 'mountain', ',', 'where', 'the', 'rug', 'terrain', 'and', 'majest', 'view', 'would', 'take', 'your', 'breath', 'away', '.', 'the', 'rocki', 'cliff', 'and', 'cascad', 'waterfal', 'were', 'sight', 'to', 'behold', '.', 'the', 'trail', 'wound', 'it', 'way', 'through', 'dens', 'forest', 'and', 'open', 'meadow', ',', 'each', 'step', 'reveal', 'a', 'new', 'discoveri', '.', 'the', 'sound', 'of', 'a', 'woodpeck', 'echo', 'through', 'the', 'wood', 'as', 'a', 'deer', 'grace', 'cross', 'the', 'path', '.']\n",
            "\n",
            "LEMMATIZATION\n",
            "['The', 'sun', 'wa', 'shining', 'brightly', 'a', 'the', 'bird', 'sang', 'their', 'morning', 'song', '.', 'The', 'dew', 'on', 'the', 'grass', 'sparkled', 'like', 'diamond', 'a', 'the', 'fresh', 'smell', 'of', 'spring', 'filled', 'the', 'air', '.', 'The', 'flower', 'were', 'in', 'bloom', ',', 'their', 'color', 'creating', 'a', 'rainbow', 'of', 'hue', '.', 'The', 'bee', 'buzzed', 'from', 'flower', 'to', 'flower', ',', 'collecting', 'nectar', 'and', 'spreading', 'pollen', '.', 'The', 'leaf', 'on', 'the', 'tree', 'rustled', 'gently', 'in', 'the', 'breeze', ',', 'creating', 'a', 'soothing', 'symphony', '.', 'The', 'sound', 'of', 'a', 'nearby', 'stream', 'added', 'to', 'the', 'serene', 'ambiance', '.', 'The', 'sky', 'wa', 'a', 'deep', 'shade', 'of', 'blue', ',', 'with', 'fluffy', 'white', 'cloud', 'lazily', 'drifting', 'by', '.', 'It', 'wa', 'a', 'perfect', 'day', 'for', 'a', 'hike', 'in', 'the', 'mountain', ',', 'where', 'the', 'rugged', 'terrain', 'and', 'majestic', 'view', 'would', 'take', 'your', 'breath', 'away', '.', 'The', 'rocky', 'cliff', 'and', 'cascading', 'waterfall', 'were', 'sight', 'to', 'behold', '.', 'The', 'trail', 'wound', 'it', 'way', 'through', 'dense', 'forest', 'and', 'open', 'meadow', ',', 'each', 'step', 'revealing', 'a', 'new', 'discovery', '.', 'The', 'sound', 'of', 'a', 'woodpecker', 'echoed', 'through', 'the', 'wood', 'a', 'a', 'deer', 'gracefully', 'crossed', 'the', 'path', '.']\n",
            "\n",
            "PART OF SPEECH TAGGER\n",
            "[('The', 'DT'), ('sun', 'NN'), ('was', 'VBD'), ('shining', 'VBG'), ('brightly', 'RB'), ('as', 'IN'), ('the', 'DT'), ('birds', 'NNS'), ('sang', 'VBD'), ('their', 'PRP$'), ('morning', 'NN'), ('song', 'NN'), ('.', '.'), ('The', 'DT'), ('dew', 'NN'), ('on', 'IN'), ('the', 'DT'), ('grass', 'NN'), ('sparkled', 'VBD'), ('like', 'JJ'), ('diamonds', 'NNS'), ('as', 'IN'), ('the', 'DT'), ('fresh', 'JJ'), ('smell', 'NN'), ('of', 'IN'), ('spring', 'NN'), ('filled', 'VBN'), ('the', 'DT'), ('air', 'NN'), ('.', '.'), ('The', 'DT'), ('flowers', 'NNS'), ('were', 'VBD'), ('in', 'IN'), ('bloom', 'NN'), (',', ','), ('their', 'PRP$'), ('colors', 'NNS'), ('creating', 'VBG'), ('a', 'DT'), ('rainbow', 'NN'), ('of', 'IN'), ('hues', 'NNS'), ('.', '.'), ('The', 'DT'), ('bees', 'NNS'), ('buzzed', 'VBN'), ('from', 'IN'), ('flower', 'JJR'), ('to', 'TO'), ('flower', 'VB'), (',', ','), ('collecting', 'VBG'), ('nectar', 'NN'), ('and', 'CC'), ('spreading', 'VBG'), ('pollen', 'NN'), ('.', '.'), ('The', 'DT'), ('leaves', 'NNS'), ('on', 'IN'), ('the', 'DT'), ('trees', 'NNS'), ('rustled', 'VBD'), ('gently', 'RB'), ('in', 'IN'), ('the', 'DT'), ('breeze', 'NN'), (',', ','), ('creating', 'VBG'), ('a', 'DT'), ('soothing', 'JJ'), ('symphony', 'NN'), ('.', '.'), ('The', 'DT'), ('sound', 'NN'), ('of', 'IN'), ('a', 'DT'), ('nearby', 'JJ'), ('stream', 'NN'), ('added', 'VBD'), ('to', 'TO'), ('the', 'DT'), ('serene', 'JJ'), ('ambiance', 'NN'), ('.', '.'), ('The', 'DT'), ('sky', 'NN'), ('was', 'VBD'), ('a', 'DT'), ('deep', 'JJ'), ('shade', 'NN'), ('of', 'IN'), ('blue', 'JJ'), (',', ','), ('with', 'IN'), ('fluffy', 'JJ'), ('white', 'JJ'), ('clouds', 'NNS'), ('lazily', 'RB'), ('drifting', 'VBG'), ('by', 'IN'), ('.', '.'), ('It', 'PRP'), ('was', 'VBD'), ('a', 'DT'), ('perfect', 'JJ'), ('day', 'NN'), ('for', 'IN'), ('a', 'DT'), ('hike', 'NN'), ('in', 'IN'), ('the', 'DT'), ('mountains', 'NNS'), (',', ','), ('where', 'WRB'), ('the', 'DT'), ('rugged', 'VBN'), ('terrain', 'NN'), ('and', 'CC'), ('majestic', 'JJ'), ('views', 'NNS'), ('would', 'MD'), ('take', 'VB'), ('your', 'PRP$'), ('breath', 'NN'), ('away', 'RB'), ('.', '.'), ('The', 'DT'), ('rocky', 'JJ'), ('cliffs', 'NNS'), ('and', 'CC'), ('cascading', 'VBG'), ('waterfalls', 'NNS'), ('were', 'VBD'), ('sights', 'NNS'), ('to', 'TO'), ('behold', 'VB'), ('.', '.'), ('The', 'DT'), ('trail', 'NN'), ('wound', 'VBD'), ('its', 'PRP$'), ('way', 'NN'), ('through', 'IN'), ('dense', 'NN'), ('forests', 'NNS'), ('and', 'CC'), ('open', 'JJ'), ('meadows', 'NNS'), (',', ','), ('each', 'DT'), ('step', 'NN'), ('revealing', 'VBG'), ('a', 'DT'), ('new', 'JJ'), ('discovery', 'NN'), ('.', '.'), ('The', 'DT'), ('sound', 'NN'), ('of', 'IN'), ('a', 'DT'), ('woodpecker', 'NN'), ('echoed', 'NN'), ('through', 'IN'), ('the', 'DT'), ('woods', 'NNS'), ('as', 'IN'), ('a', 'DT'), ('deer', 'NN'), ('gracefully', 'RB'), ('crossed', 'VBD'), ('the', 'DT'), ('path', 'NN'), ('.', '.')]\n"
          ]
        }
      ],
      "source": [
        "nltk.download('punkt')\n",
        "nltk.download('stopwords')\n",
        "nltk.download('wordnet')\n",
        "nltk.download('omw-1.4')\n",
        "nltk.download('averaged_perceptron_tagger')\n",
        "\n",
        "from nltk.tokenize import word_tokenize\n",
        "corpus = \"\"\"The sun was shining brightly as the birds sang their morning song. The dew on the grass sparkled like diamonds \n",
        "as the fresh smell of spring filled the air. The flowers were in bloom, their colors creating a rainbow of hues. The bees \n",
        "buzzed from flower to flower, collecting nectar and spreading pollen. The leaves on the trees rustled gently in the breeze, \n",
        "creating a soothing symphony. The sound of a nearby stream added to the serene ambiance. The sky was a deep shade of blue, with \n",
        "fluffy white clouds lazily drifting by. It was a perfect day for a hike in the mountains, where the rugged terrain and majestic \n",
        "views would take your breath away. The rocky cliffs and cascading waterfalls were sights to behold. The trail wound its way \n",
        "through dense forests and open meadows, each step revealing a new discovery. The sound of a woodpecker echoed through the woods \n",
        "as a deer gracefully crossed the path.\"\"\"\n",
        "\n",
        "# Word segmentation\n",
        "print(\"\\nWORD SEGMENTAION\")\n",
        "print(nltk.word_tokenize(corpus))\n",
        "\n",
        "# Sentence segmentation\n",
        "print(\"\\nSENTENCE SEGMENTAION\")\n",
        "print(nltk.sent_tokenize(corpus))\n",
        "\n",
        "# Convert to Lowercase\n",
        "print(\"\\nCONVERT TO LOWERCASE\")\n",
        "print(corpus.lower())\n",
        "\n",
        "# Stop words removal\n",
        "#nltk.download('stopwords')\n",
        "print(\"\\nSTOP WORDS REMOVAL\")\n",
        "from nltk.corpus import stopwords\n",
        "stop = set(stopwords.words('english'))\n",
        "filtered_sentence = [w for w in nltk.word_tokenize(corpus) if not w in stop]\n",
        "print(filtered_sentence)\n",
        "\n",
        "# Stemming\n",
        "print(\"\\nSTEMMING\")\n",
        "from nltk.stem import PorterStemmer\n",
        "ps = PorterStemmer()\n",
        "stemmed=[]\n",
        "for w in nltk.word_tokenize(corpus):\n",
        "    stemmed.append(ps.stem(w))\n",
        "print(stemmed)\n",
        "\n",
        "# Lemmatization\n",
        "#nltk.download('wordnet')\n",
        "#nltk.download('omw-1.4')\n",
        "print(\"\\nLEMMATIZATION\")\n",
        "from nltk.stem import WordNetLemmatizer\n",
        "l = WordNetLemmatizer()\n",
        "lemm=[]\n",
        "for w in nltk.word_tokenize(corpus):\n",
        "    lemm.append(l.lemmatize(w))\n",
        "print(lemm)\n",
        "\n",
        "# Part of speech tagger\n",
        "#nltk.download('averaged_perceptron_tagger')\n",
        "from nltk import pos_tag\n",
        "print(\"\\nPART OF SPEECH TAGGER\")\n",
        "print(nltk.pos_tag(nltk.word_tokenize(corpus)))\n"
      ]
    }
  ],
  "metadata": {
    "kernelspec": {
      "display_name": "Python 3",
      "language": "python",
      "name": "python3"
    },
    "language_info": {
      "name": "python",
      "version": "3.10.0 (tags/v3.10.0:b494f59, Oct  4 2021, 19:00:18) [MSC v.1929 64 bit (AMD64)]"
    },
    "orig_nbformat": 4,
    "vscode": {
      "interpreter": {
        "hash": "bcd1eee357b80b133e21472a2213067d6872cd29173f136f2db7d13b6d32cbeb"
      }
    },
    "colab": {
      "provenance": []
    }
  },
  "nbformat": 4,
  "nbformat_minor": 0
}